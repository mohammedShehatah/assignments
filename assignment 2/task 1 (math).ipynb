{
 "cells": [
  {
   "cell_type": "markdown",
   "metadata": {},
   "source": [
    "## this code calculates the perimeter or area of a shape you choose ##\n",
    "**follow the instructions** \n"
   ]
  },
  {
   "cell_type": "markdown",
   "metadata": {},
   "source": [
    "**1- choose the shape** \n"
   ]
  },
  {
   "cell_type": "markdown",
   "metadata": {},
   "source": [
    "**2- inter its dimantions length** \n"
   ]
  },
  {
   "cell_type": "markdown",
   "metadata": {},
   "source": [
    "**3- determine what you want to calculate perimeter or area**"
   ]
  },
  {
   "cell_type": "code",
   "execution_count": null,
   "metadata": {},
   "outputs": [],
   "source": [
    "shape = int(input(\"please choose your shape from\"\n",
    "                  \" \"\n",
    "                  \"1-parallelogram\"\n",
    "                  \" \"\n",
    "                  \"2-circle\"\n",
    "                  \" \"\n",
    "                  \"3-triangle ?\"))\n",
    "if shape == 1:\n",
    "    length = int(input(\"please inter the length :\"))\n",
    "    width = int(input(\"please inter the width :\"))\n",
    "    calc1 = input(\"perimeter or area ?\")\n",
    "    if calc1 == \"perimeter\" :\n",
    "        perimeter = ( length + width )*2\n",
    "        print(perimeter)\n",
    "    else:\n",
    "        area = length * width\n",
    "        print(area)\n",
    "\n",
    "elif shape==2 :\n",
    "    r = int(input(\"please inter r when r is radius :\"))\n",
    "    calc2 = input(\"circumference or area ?\")\n",
    "    if calc2 == \"circumference\" :\n",
    "        circumference = 2*r*3.14\n",
    "        print(circumference)\n",
    "    else:\n",
    "        area = r*r*3.14\n",
    "        print(area)\n",
    "\n",
    "\n",
    "elif shape ==3 :\n",
    "    calc3 = input(\" what do you want to calc perimeter or area ?\")\n",
    "    if calc3 == \"perimeter\" :\n",
    "        l1 = int(input(\"please inter side 1 :\"))\n",
    "        l2 = int(input(\"please inter side 2 :\"))\n",
    "        l3 = int(input(\"please inter side 3 :\"))\n",
    "        perimeter = l1+l2+l3\n",
    "        print(perimeter)\n",
    "    else:\n",
    "        base = int(input(\"please inter base length :\"))\n",
    "        height = int(input(\"please inter the height :\"))\n",
    "        area = height * base/2\n",
    "        print(area)\n"
   ]
  },
  {
   "cell_type": "code",
   "execution_count": null,
   "metadata": {},
   "outputs": [],
   "source": []
  }
 ],
 "metadata": {
  "kernelspec": {
   "display_name": "Python 3",
   "language": "python",
   "name": "python3"
  },
  "language_info": {
   "codemirror_mode": {
    "name": "ipython",
    "version": 3
   },
   "file_extension": ".py",
   "mimetype": "text/x-python",
   "name": "python",
   "nbconvert_exporter": "python",
   "pygments_lexer": "ipython3",
   "version": "3.7.6"
  }
 },
 "nbformat": 4,
 "nbformat_minor": 4
}
